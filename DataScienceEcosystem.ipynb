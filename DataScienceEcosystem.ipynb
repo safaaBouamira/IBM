{
  "nbformat": 4,
  "nbformat_minor": 0,
  "metadata": {
    "colab": {
      "provenance": []
    },
    "kernelspec": {
      "name": "python3",
      "display_name": "Python 3"
    },
    "language_info": {
      "name": "python"
    }
  },
  "cells": [
    {
      "cell_type": "markdown",
      "source": [
        "# Data Science Tools and Ecosystem"
      ],
      "metadata": {
        "id": "oa4TAPD34gA_"
      }
    },
    {
      "cell_type": "markdown",
      "source": [
        "# In this notebook, Data Science Tools and Ecosystem are summarized"
      ],
      "metadata": {
        "id": "X2kSsNbU45SH"
      }
    },
    {
      "cell_type": "markdown",
      "source": [
        "# Some of the popular languages that Data Scientists use are:\n",
        "1. **Python**\n",
        "\n",
        "2. **R**\n",
        "\n",
        "3. **SQL**\n",
        "\n",
        "4. **Julia**"
      ],
      "metadata": {
        "id": "uivWuv-m5Yf6"
      }
    },
    {
      "cell_type": "markdown",
      "source": [
        "# Some of the commonly used libraries used by Data Scientists include:\n",
        "1. **NumPy**\n",
        "\n",
        "2. **pandas**\n",
        "\n",
        "3. **matplotlib**\n",
        "\n",
        "4. **Seaborn**"
      ],
      "metadata": {
        "id": "2CAzJUrP6yAx"
      }
    },
    {
      "cell_type": "markdown",
      "source": [
        "\n",
        "\n",
        "| Data Science Tools |\n",
        "|--------------------|\n",
        "| Jupyter Notebook   |\n",
        "| RStudio            |\n",
        "| Visual Studio Code |\n"
      ],
      "metadata": {
        "id": "J217EYNc72qd"
      }
    },
    {
      "cell_type": "markdown",
      "source": [
        "### Below are a few examples of evaluating arithmetic expressions in Python"
      ],
      "metadata": {
        "id": "vZ0D4Vpc8PM7"
      }
    },
    {
      "cell_type": "code",
      "source": [
        "#  This a simple arithmetic expression to mutiply then add integers\n",
        "(3*4)+5"
      ],
      "metadata": {
        "colab": {
          "base_uri": "https://localhost:8080/"
        },
        "id": "bS8tyd0q79YX",
        "outputId": "57d5ea83-e534-46f1-bc38-082360a1402a"
      },
      "execution_count": null,
      "outputs": [
        {
          "output_type": "execute_result",
          "data": {
            "text/plain": [
              "17"
            ]
          },
          "metadata": {},
          "execution_count": 1
        }
      ]
    },
    {
      "cell_type": "code",
      "source": [
        "#  This will convert 200 minutes to hours by diving by 60\n",
        "200/60"
      ],
      "metadata": {
        "colab": {
          "base_uri": "https://localhost:8080/"
        },
        "id": "1wBMY45F8s-P",
        "outputId": "00dfe468-4f3e-4827-83ca-a48dc816daf8"
      },
      "execution_count": null,
      "outputs": [
        {
          "output_type": "execute_result",
          "data": {
            "text/plain": [
              "3.3333333333333335"
            ]
          },
          "metadata": {},
          "execution_count": 2
        }
      ]
    },
    {
      "cell_type": "markdown",
      "source": [
        "# Objectives:\n",
        "1.**The popular languages that Data Scientists use**\n",
        "\n",
        "2.**The commonly used libraries used by Data Scientists**\n",
        "\n",
        "3.**A few examples of evaluating arithmetic expressions in Python**"
      ],
      "metadata": {
        "id": "_ju0L36b-vjG"
      }
    },
    {
      "cell_type": "markdown",
      "source": [
        "# safaa"
      ],
      "metadata": {
        "id": "iFwyZjWWDQtL"
      }
    }
  ]
}